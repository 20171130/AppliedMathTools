{
 "cells": [
  {
   "cell_type": "code",
   "execution_count": null,
   "metadata": {
    "collapsed": true
   },
   "outputs": [],
   "source": [
    "import utils"
   ]
  },
  {
   "cell_type": "code",
   "execution_count": null,
   "metadata": {
    "collapsed": true
   },
   "outputs": [],
   "source": [
    "class Trainer:\n",
    "    def __init__(self, config, loss_func, train_func):\n",
    "        self.x, self.y, self.a, self.b, self.a_true, self.b_true, self.eta = config\n",
    "        self.loss_func = loss_func\n",
    "        self.train_func = train_func\n",
    "        self.loss = float(\"inf\")\n",
    "    \n",
    "    def one_iteration(self):\n",
    "        self.loss = self.loss_func(self.x, self.y, self.a, self.b)\n",
    "        print(\"loss: {:.5f}\".format(self.loss))\n",
    "        self.a, self.b = self.train_func(self.x, self.y, self.a, self.b, self.eta)\n",
    "    \n",
    "    def go(self, n=1000):\n",
    "        for i in range(n):\n",
    "            self.one_iteration()\n",
    "    \n",
    "    def result(self):\n",
    "        print(\"loss: {:.5f}\".format(self.loss))\n",
    "        print(\"Res: a = {0:.5f}, b = {1:.5f}\".format(self.a, self.b))\n",
    "        print(\"GT:  a = {0:.5f}, b = {1:.5f}\".format(self.a_true, self.b_true))"
   ]
  },
  {
   "cell_type": "code",
   "execution_count": null,
   "metadata": {},
   "outputs": [],
   "source": [
    "trainer = Trainer(utils.generate_config(), utils.loss_func, utils.train_func)"
   ]
  },
  {
   "cell_type": "code",
   "execution_count": null,
   "metadata": {},
   "outputs": [],
   "source": [
    "trainer.go()"
   ]
  },
  {
   "cell_type": "code",
   "execution_count": null,
   "metadata": {},
   "outputs": [],
   "source": [
    "trainer.result()"
   ]
  },
  {
   "cell_type": "code",
   "execution_count": null,
   "metadata": {
    "collapsed": true
   },
   "outputs": [],
   "source": []
  }
 ],
 "metadata": {
  "kernelspec": {
   "display_name": "Python 3",
   "language": "python",
   "name": "python3"
  },
  "language_info": {
   "codemirror_mode": {
    "name": "ipython",
    "version": 3
   },
   "file_extension": ".py",
   "mimetype": "text/x-python",
   "name": "python",
   "nbconvert_exporter": "python",
   "pygments_lexer": "ipython3",
   "version": "3.6.2"
  }
 },
 "nbformat": 4,
 "nbformat_minor": 2
}
